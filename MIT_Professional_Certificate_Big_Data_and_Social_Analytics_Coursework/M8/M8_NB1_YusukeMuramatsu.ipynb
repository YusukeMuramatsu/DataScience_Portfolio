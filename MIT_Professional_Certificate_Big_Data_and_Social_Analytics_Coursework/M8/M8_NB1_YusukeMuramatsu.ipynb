{
 "cells": [
  {
   "cell_type": "markdown",
   "metadata": {},
   "source": [
    "<div align=\"right\">Python 2.7 Jupyter Notebook</div>\n",
    "\n",
    "# Social analytics blueprint\n",
    "<br>\n",
    "<div class=\"alert alert-warning\">\n",
    "<b>This notebook contains exercises for students completing the non-technical track.</b> Note that you will not be disadvantaged for completing only the non-technical notebooks. If you are a more technical student and wish to deepen your understanding and qualify for additional credit, we recommend that you complete the technical notebook instead.\n",
    "</div>\n",
    "\n",
    "### Your completion of the notebook exercises will be graded based on your ability to:\n",
    "\n",
    "> **Understand**: Do your comments show evidence that you recall and understand technical concepts?"
   ]
  },
  {
   "cell_type": "markdown",
   "metadata": {},
   "source": [
    "This notebook is intended to serve as a blueprint that you can use in your future endeavors. You are expected to provide a high-level blueprint of a potential study, because an in-depth blueprint is beyond the scope of the course. The activity will not be graded in detail, therefore one or two sentences for each of the sections is sufficient.\n",
    "\n",
    "> **Note**: Providing the marker with some information regarding your interests, experience, and background will allow for more personalized feedback in the grading. However, this is optional and does not need to be provided.\n",
    "\n",
    "The outline below is provided in an attempt to structure your thoughts. Keep in mind that typical studies, whether in academic or in commercial applications, typically do not follow a straight path. As a result of this, the output is typically produced after many iterations, deviations, and potential changes in course. Living labs are longitudinal and adaptive by nature. In science, researchers uncover insights that may be different from what they originally anticipated, and in business individuals may uncover new and unexpected business and improvement opportunities. You need to ensure that you spend enough time in the exploration phase of real-life projects, while ensuring that you deliver actionable results in the required timeframes. A good approach is to start with a minimum viable product and add features to this product as your project matures."
   ]
  },
  {
   "cell_type": "markdown",
   "metadata": {},
   "source": [
    "<div class=\"alert alert-info\">\n",
    "<b>Exercise 1 Start.</b>\n",
    "</div>\n",
    "\n",
    "### Instructions\n",
    "\n",
    "> Based on the content provided in M6_NB1 (project overview) and M7_NB1 (study overview), create a blueprint for your own topic of interest. Provide a short introductory paragraph stating your choice of industry and topic, and then one or two sentences describing your plan or expectations for each of the sections listed below.\n",
    "\n",
    "> **Note**: You can refer to the image of the scientific method, in notebook 1 of Module 7, as a refresher or the typical workflow observed."
   ]
  },
  {
   "cell_type": "markdown",
   "metadata": {},
   "source": [
    "My topic would be:\n",
    "\n",
    "A traffic optimization in Tokyo Olympic in 2020."
   ]
  },
  {
   "cell_type": "markdown",
   "metadata": {
    "collapsed": true
   },
   "source": [
    "#### 1. Make observations \n",
    "Typically, this follows the research and context phase of the project plan. List the observations that you would like to study in your project."
   ]
  },
  {
   "cell_type": "markdown",
   "metadata": {},
   "source": [
    "List of observations:\n",
    "1. Utilization levels of subways and train systems around the Olympic venue\n",
    "2. Congestion level of traffic around the Olympic venue\n",
    "3. Locations where tourists most likely stay\n",
    "4. Utilization density of subway/train system across weeks\n",
    "5. Traffic congestion density around the Olympic venue across weeks"
   ]
  },
  {
   "cell_type": "markdown",
   "metadata": {
    "collapsed": true
   },
   "source": [
    "####  2. Think of interesting questions\n",
    "List a few of the potential questions that you would like to answer in your project."
   ]
  },
  {
   "cell_type": "markdown",
   "metadata": {},
   "source": [
    "1. Can an existing subay/train system handle increased traffic during the Olympic?\n",
    "2. If the existing subway/train system cannot handle increased traffic, how should Tokyo better prepare increased traffic?"
   ]
  },
  {
   "cell_type": "markdown",
   "metadata": {},
   "source": [
    "####  3. Formulate a hypothesis\n",
    "State one or two hypotheses related to the questions listed in the previous answer."
   ]
  },
  {
   "cell_type": "markdown",
   "metadata": {},
   "source": [
    "Hypotheses: \n",
    "\n",
    "Tokyo will have to offer additional transportation services, such as shuttle buses connecting the Olympic venue and main cities to avoid extreme traffic congestion.\n",
    "\n",
    "Reasons:\n",
    "1. Existing subway/train system's utilization level already reaches nearly 100% during commuting time.\n",
    "2. There are not many train/subway system running near the Olympic venue, which could generate traffic congestion."
   ]
  },
  {
   "cell_type": "markdown",
   "metadata": {},
   "source": [
    "####  4. Develop testable predictions\n",
    "Briefly describe how you would develop testable predictions."
   ]
  },
  {
   "cell_type": "markdown",
   "metadata": {},
   "source": [
    "Test: \n",
    "\n",
    "Whether or not the existing train/subway system can handle increased traffic during the Olympic\n",
    "\n",
    "Possible items to consider to formulate the test: \n",
    "\n",
    "1. Check current utilization level of train/subway system to see how much margin they currently have.\n",
    "\n",
    "2. Check locations where tourists most likely stay to see how many rooms those area can currently offer to potential tourists. Also, check current utilization level as well.\n",
    "\n",
    "3. Check how many tourists would visit Tokyo in 2020(based on historic data from Rio Olympic, airfare level across Asian countries and etc)\n",
    "\n",
    "4. Create a prediction for utilization level of an existing transportation system given X number of expected tourist staying in Y cities.\n",
    "\n",
    "5. Check the utilization results to see if Tokyo will have to offer extra transportation systems such as shuttle buses.\n"
   ]
  },
  {
   "cell_type": "markdown",
   "metadata": {},
   "source": [
    "####  5. Gather data to test predictions and execute the analysis phase\n",
    "You do not need to complete the execution aspect of this phase. Simply provide one or two observations on where you expect to source the required data, and execute the planned analysis."
   ]
  },
  {
   "cell_type": "markdown",
   "metadata": {},
   "source": [
    "Sources:\n",
    "\n",
    "Transportation information: Transportation information such as utilization level can be obtained by contacting to private companies which own transportation system.\n",
    "\n",
    "Accommodation information: Tokyo government and municipality own accommodation facility information\n",
    "\n",
    "Traffic information: Japanese government owns traffic data across Tokyo area. Some of which are open source data.\n",
    "\n",
    "Expected tourists: Olympic committee owns its prediction data for expected tourists."
   ]
  },
  {
   "cell_type": "markdown",
   "metadata": {},
   "source": [
    "Once step 5 is complete you will likely have to:\n",
    "\n",
    "####  6. Refine, alter, expand or reject your hypothesis\n",
    "Can you think of additional uses for (or other parties interested in) the data in your hypothetical use case? List them below."
   ]
  },
  {
   "cell_type": "markdown",
   "metadata": {},
   "source": [
    "Other cities across the world:\n",
    "I think that any cities across the world, which are planning to expand its own city would be interested in the data and a whole procedure. Especially city design engineers must be interested in the approach I would take and result I would get since it is closely related to city planning process. Cities in developing countries might be interested in as they conduct their city planning.\n",
    "\n",
    "Next Olympic cities:\n",
    "Next Olympic cities must have an interest in the data since they will face a similar situation Tokyo will face in 2020.\n"
   ]
  },
  {
   "cell_type": "markdown",
   "metadata": {},
   "source": [
    "After you have completed this phase, you will need to repeat phases four and five of the scientific method. Alternatively, if you do not find a need to refine, alter, expand or reject your hypothesis, you can proceed to the final phase, which is to:\n",
    "\n",
    "####  7. Develop general theories\n",
    "Assuming that your analysis was successful and that you were able to develop a general theory to better understand a specific topic: what changes would you propose in order to benefit from the insights gained?"
   ]
  },
  {
   "cell_type": "markdown",
   "metadata": {},
   "source": [
    "If I could testify that Tokyo's current transportation system cannot handle increased traffic during the Olympic, I would propose that Tokyo offers shuttle buses and bike rental system. In my opinion, since Olympic traffic spike is a temporal event, Tokyo should not invest in train system, which could cost the city significant amount of money and time. Also after the Olympic, I would assume that not so many people would use the line(because there not many offices/schools in the area) so it is hard to recoup the initial investment. Most of the subway system in Tokyo run shallow ground level. Therefore, if Tokyo wants to open a new line, they need to dig deep in the ground which would cost extra money and which makes it harder to reach the break-even point. So my suggestion would be that Tokyo offers shuttle buses and bikes. Shuttle busses are relatively cheap compared to opening up a new train system. Additional shuttle bus service might increase traffic congestion, so Tokyo has to consider traffic regulation (such as no commuting with a car without permission) to smoothen the traffic as much as it can. Also, the bike would be a good idea. As implemented in NYC, citi-bike help avoid unnecessary traffic congestion. Tokyo is small enough to bike around, so I would think that bike system could be a good solution to the problem."
   ]
  },
  {
   "cell_type": "markdown",
   "metadata": {},
   "source": [
    "<br>\n",
    "<div class=\"alert alert-info\">\n",
    "<b>Exercise 1 End.</b>\n",
    "</div>\n",
    "\n",
    "> **Exercise complete**:\n",
    "    \n",
    "> This is a good time to \"Save and Checkpoint\"."
   ]
  },
  {
   "cell_type": "markdown",
   "metadata": {
    "collapsed": true
   },
   "source": [
    "\n",
    "# 1. Submit your notebook\n",
    "\n",
    "Please make sure that you:\n",
    "- Perform a final \"Save and Checkpoint\";\n",
    "- Download a copy of the notebook in \".ipynb\" format to your local machine using \"File\", \"Download as\", and \"IPython Notebook (.ipynb)\"; and\n",
    "- Submit a copy of this file to the online campus.\n",
    "\n",
    "> **Note**:\n",
    "\n",
    "> A model answer will not be provided for this notebook."
   ]
  },
  {
   "cell_type": "code",
   "execution_count": null,
   "metadata": {
    "collapsed": true
   },
   "outputs": [],
   "source": []
  }
 ],
 "metadata": {
  "kernelspec": {
   "display_name": "Python 2",
   "language": "python",
   "name": "python2"
  },
  "language_info": {
   "codemirror_mode": {
    "name": "ipython",
    "version": 2
   },
   "file_extension": ".py",
   "mimetype": "text/x-python",
   "name": "python",
   "nbconvert_exporter": "python",
   "pygments_lexer": "ipython2",
   "version": "2.7.11"
  }
 },
 "nbformat": 4,
 "nbformat_minor": 0
}
